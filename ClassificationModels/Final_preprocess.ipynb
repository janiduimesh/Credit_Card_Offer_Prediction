{
 "cells": [
  {
   "cell_type": "code",
   "execution_count": 95,
   "metadata": {},
   "outputs": [],
   "source": [
    "import numpy as np\n",
    "import pandas as pd\n",
    "import matplotlib.pyplot as plt\n",
    "import seaborn as sns\n",
    "from sklearn.cluster import KMeans\n",
    "from sklearn.impute import SimpleImputer\n",
    "\n",
    "from sklearn.preprocessing import OneHotEncoder,LabelEncoder\n",
    "from sklearn.compose import ColumnTransformer\n",
    "from sklearn.model_selection import GridSearchCV, RandomizedSearchCV, StratifiedKFold, train_test_split\n",
    "from imblearn.over_sampling import RandomOverSampler\n",
    "from sklearn.metrics import accuracy_score,classification_report\n",
    "\n",
    "from sklearn.ensemble import RandomForestClassifier\n",
    "from sklearn.linear_model import LogisticRegression\n"
   ]
  },
  {
   "cell_type": "code",
   "execution_count": 96,
   "metadata": {},
   "outputs": [],
   "source": [
    "path = '../Dataset/bank_customer.csv'\n",
    "df = pd.read_csv(path)"
   ]
  },
  {
   "cell_type": "code",
   "execution_count": 97,
   "metadata": {},
   "outputs": [
    {
     "data": {
      "text/html": [
       "<div>\n",
       "<style scoped>\n",
       "    .dataframe tbody tr th:only-of-type {\n",
       "        vertical-align: middle;\n",
       "    }\n",
       "\n",
       "    .dataframe tbody tr th {\n",
       "        vertical-align: top;\n",
       "    }\n",
       "\n",
       "    .dataframe thead th {\n",
       "        text-align: right;\n",
       "    }\n",
       "</style>\n",
       "<table border=\"1\" class=\"dataframe\">\n",
       "  <thead>\n",
       "    <tr style=\"text-align: right;\">\n",
       "      <th></th>\n",
       "      <th>Unnamed: 0</th>\n",
       "      <th>ID</th>\n",
       "      <th>Gender</th>\n",
       "      <th>Month_Income</th>\n",
       "      <th>Age</th>\n",
       "      <th>Region_Code</th>\n",
       "      <th>Occupation</th>\n",
       "      <th>Credit_Score</th>\n",
       "      <th>Loan_Status</th>\n",
       "      <th>Existing_Credit_Cards</th>\n",
       "      <th>Avg_Account_Balance</th>\n",
       "      <th>Account_Category</th>\n",
       "      <th>Tenure_with_Bank</th>\n",
       "      <th>Lead_Outcome</th>\n",
       "    </tr>\n",
       "  </thead>\n",
       "  <tbody>\n",
       "    <tr>\n",
       "      <th>0</th>\n",
       "      <td>0</td>\n",
       "      <td>VBENBARO</td>\n",
       "      <td>Male</td>\n",
       "      <td>96345.0</td>\n",
       "      <td>29</td>\n",
       "      <td>254</td>\n",
       "      <td>Other</td>\n",
       "      <td>623</td>\n",
       "      <td>Yes</td>\n",
       "      <td>4</td>\n",
       "      <td>742366</td>\n",
       "      <td>X1</td>\n",
       "      <td>2</td>\n",
       "      <td>No</td>\n",
       "    </tr>\n",
       "    <tr>\n",
       "      <th>1</th>\n",
       "      <td>1</td>\n",
       "      <td>CCMEWNKY</td>\n",
       "      <td>Male</td>\n",
       "      <td>85640.0</td>\n",
       "      <td>43</td>\n",
       "      <td>268</td>\n",
       "      <td>Other</td>\n",
       "      <td>629</td>\n",
       "      <td>NaN</td>\n",
       "      <td>0</td>\n",
       "      <td>925537</td>\n",
       "      <td>X2</td>\n",
       "      <td>1</td>\n",
       "      <td>No</td>\n",
       "    </tr>\n",
       "    <tr>\n",
       "      <th>2</th>\n",
       "      <td>2</td>\n",
       "      <td>VK3KGA9M</td>\n",
       "      <td>Male</td>\n",
       "      <td>96345.0</td>\n",
       "      <td>31</td>\n",
       "      <td>270</td>\n",
       "      <td>Salaried</td>\n",
       "      <td>357</td>\n",
       "      <td>No</td>\n",
       "      <td>0</td>\n",
       "      <td>215949</td>\n",
       "      <td>X1</td>\n",
       "      <td>1</td>\n",
       "      <td>No</td>\n",
       "    </tr>\n",
       "    <tr>\n",
       "      <th>3</th>\n",
       "      <td>3</td>\n",
       "      <td>TT8RPZVC</td>\n",
       "      <td>Male</td>\n",
       "      <td>85640.0</td>\n",
       "      <td>29</td>\n",
       "      <td>272</td>\n",
       "      <td>Other</td>\n",
       "      <td>356</td>\n",
       "      <td>No</td>\n",
       "      <td>0</td>\n",
       "      <td>868070</td>\n",
       "      <td>X1</td>\n",
       "      <td>3</td>\n",
       "      <td>No</td>\n",
       "    </tr>\n",
       "    <tr>\n",
       "      <th>4</th>\n",
       "      <td>4</td>\n",
       "      <td>SHQZEYTZ</td>\n",
       "      <td>Female</td>\n",
       "      <td>42820.0</td>\n",
       "      <td>29</td>\n",
       "      <td>270</td>\n",
       "      <td>Other</td>\n",
       "      <td>572</td>\n",
       "      <td>No</td>\n",
       "      <td>0</td>\n",
       "      <td>657087</td>\n",
       "      <td>X1</td>\n",
       "      <td>3</td>\n",
       "      <td>No</td>\n",
       "    </tr>\n",
       "  </tbody>\n",
       "</table>\n",
       "</div>"
      ],
      "text/plain": [
       "   Unnamed: 0        ID  Gender  Month_Income  Age  Region_Code Occupation  \\\n",
       "0           0  VBENBARO    Male       96345.0   29          254      Other   \n",
       "1           1  CCMEWNKY    Male       85640.0   43          268      Other   \n",
       "2           2  VK3KGA9M    Male       96345.0   31          270   Salaried   \n",
       "3           3  TT8RPZVC    Male       85640.0   29          272      Other   \n",
       "4           4  SHQZEYTZ  Female       42820.0   29          270      Other   \n",
       "\n",
       "   Credit_Score Loan_Status  Existing_Credit_Cards  Avg_Account_Balance  \\\n",
       "0           623         Yes                      4               742366   \n",
       "1           629         NaN                      0               925537   \n",
       "2           357          No                      0               215949   \n",
       "3           356          No                      0               868070   \n",
       "4           572          No                      0               657087   \n",
       "\n",
       "  Account_Category  Tenure_with_Bank Lead_Outcome  \n",
       "0               X1                 2           No  \n",
       "1               X2                 1           No  \n",
       "2               X1                 1           No  \n",
       "3               X1                 3           No  \n",
       "4               X1                 3           No  "
      ]
     },
     "execution_count": 97,
     "metadata": {},
     "output_type": "execute_result"
    }
   ],
   "source": [
    "df.head()"
   ]
  },
  {
   "cell_type": "code",
   "execution_count": 98,
   "metadata": {},
   "outputs": [],
   "source": [
    "#mapping the Account_Category\t\n",
    "category_mapping = {\n",
    "    'X1': 'Savings Account',\n",
    "    'X2': 'Current Account',\n",
    "    'X3': 'Senior Citizens Account',\n",
    "    'X4': 'Investment Account'\n",
    "}\n",
    "\n",
    "# Replace the values in the Account_Category column\n",
    "df['Account_Category'] = df['Account_Category'].replace(category_mapping)"
   ]
  },
  {
   "cell_type": "code",
   "execution_count": 99,
   "metadata": {},
   "outputs": [
    {
     "data": {
      "text/plain": [
       "0"
      ]
     },
     "execution_count": 99,
     "metadata": {},
     "output_type": "execute_result"
    }
   ],
   "source": [
    "df.duplicated().sum()"
   ]
  },
  {
   "cell_type": "code",
   "execution_count": 100,
   "metadata": {},
   "outputs": [
    {
     "name": "stdout",
     "output_type": "stream",
     "text": [
      "<class 'pandas.core.frame.DataFrame'>\n",
      "RangeIndex: 105000 entries, 0 to 104999\n",
      "Data columns (total 14 columns):\n",
      " #   Column                 Non-Null Count   Dtype  \n",
      "---  ------                 --------------   -----  \n",
      " 0   Unnamed: 0             105000 non-null  int64  \n",
      " 1   ID                     105000 non-null  object \n",
      " 2   Gender                 105000 non-null  object \n",
      " 3   Month_Income           102514 non-null  float64\n",
      " 4   Age                    105000 non-null  int64  \n",
      " 5   Region_Code            105000 non-null  int64  \n",
      " 6   Occupation             102486 non-null  object \n",
      " 7   Credit_Score           105000 non-null  int64  \n",
      " 8   Loan_Status            92511 non-null   object \n",
      " 9   Existing_Credit_Cards  105000 non-null  int64  \n",
      " 10  Avg_Account_Balance    105000 non-null  int64  \n",
      " 11  Account_Category       105000 non-null  object \n",
      " 12  Tenure_with_Bank       105000 non-null  int64  \n",
      " 13  Lead_Outcome           105000 non-null  object \n",
      "dtypes: float64(1), int64(7), object(6)\n",
      "memory usage: 11.2+ MB\n"
     ]
    }
   ],
   "source": [
    "df.info()"
   ]
  },
  {
   "cell_type": "code",
   "execution_count": 101,
   "metadata": {},
   "outputs": [
    {
     "name": "stdout",
     "output_type": "stream",
     "text": [
      "Numerical columns with missing values: {'Month_Income': 2486}\n",
      "Categorical columns with missing values: {'Occupation': 2514, 'Loan_Status': 12489}\n"
     ]
    }
   ],
   "source": [
    "missing_values = df.isna().sum().to_dict()\n",
    "\n",
    "# Filter columns with missing values\n",
    "columns_with_missing_values = {k: v for k, v in missing_values.items() if v > 0}\n",
    "\n",
    "column_data_types = df.dtypes.to_dict()\n",
    "\n",
    "numerical_missing = {k: v for k, v in columns_with_missing_values.items() if column_data_types[k] in ['int64', 'float64']}\n",
    "categorical_missing = {k: v for k, v in columns_with_missing_values.items() if column_data_types[k] == 'object'}\n",
    "\n",
    "print(\"Numerical columns with missing values:\", numerical_missing)\n",
    "print(\"Categorical columns with missing values:\", categorical_missing)"
   ]
  },
  {
   "cell_type": "code",
   "execution_count": 102,
   "metadata": {},
   "outputs": [
    {
     "name": "stdout",
     "output_type": "stream",
     "text": [
      "Unnamed: 0               0\n",
      "ID                       0\n",
      "Gender                   0\n",
      "Month_Income             0\n",
      "Age                      0\n",
      "Region_Code              0\n",
      "Occupation               0\n",
      "Credit_Score             0\n",
      "Loan_Status              0\n",
      "Existing_Credit_Cards    0\n",
      "Avg_Account_Balance      0\n",
      "Account_Category         0\n",
      "Tenure_with_Bank         0\n",
      "Lead_Outcome             0\n",
      "dtype: int64\n"
     ]
    },
    {
     "name": "stderr",
     "output_type": "stream",
     "text": [
      "C:\\Users\\Gen\\AppData\\Local\\Temp\\ipykernel_3776\\3595242242.py:13: FutureWarning: A value is trying to be set on a copy of a DataFrame or Series through chained assignment using an inplace method.\n",
      "The behavior will change in pandas 3.0. This inplace method will never work because the intermediate object on which we are setting values always behaves as a copy.\n",
      "\n",
      "For example, when doing 'df[col].method(value, inplace=True)', try using 'df.method({col: value}, inplace=True)' or df[col] = df[col].method(value) instead, to perform the operation inplace on the original object.\n",
      "\n",
      "\n",
      "  df[col].fillna(df[col].mode()[0], inplace=True)\n"
     ]
    }
   ],
   "source": [
    "from sklearn.impute import KNNImputer\n",
    "import pandas as pd\n",
    "\n",
    "df_copy = df.copy()\n",
    "\n",
    "numerical_columns = ['Month_Income']  \n",
    "categorical_columns = ['Occupation', 'Loan_Status']  \n",
    "\n",
    "imputer = KNNImputer(n_neighbors=5)\n",
    "df[numerical_columns] = imputer.fit_transform(df_copy[numerical_columns])\n",
    "\n",
    "for col in categorical_columns:\n",
    "    df[col].fillna(df[col].mode()[0], inplace=True)\n",
    "\n",
    "print(df.isnull().sum())\n",
    "\n"
   ]
  },
  {
   "cell_type": "code",
   "execution_count": 103,
   "metadata": {},
   "outputs": [],
   "source": [
    "df = df.drop(['Unnamed: 0','ID','Region_Code'], axis=1)"
   ]
  },
  {
   "cell_type": "code",
   "execution_count": 104,
   "metadata": {},
   "outputs": [
    {
     "data": {
      "text/html": [
       "<div>\n",
       "<style scoped>\n",
       "    .dataframe tbody tr th:only-of-type {\n",
       "        vertical-align: middle;\n",
       "    }\n",
       "\n",
       "    .dataframe tbody tr th {\n",
       "        vertical-align: top;\n",
       "    }\n",
       "\n",
       "    .dataframe thead th {\n",
       "        text-align: right;\n",
       "    }\n",
       "</style>\n",
       "<table border=\"1\" class=\"dataframe\">\n",
       "  <thead>\n",
       "    <tr style=\"text-align: right;\">\n",
       "      <th></th>\n",
       "      <th>Gender</th>\n",
       "      <th>Month_Income</th>\n",
       "      <th>Age</th>\n",
       "      <th>Occupation</th>\n",
       "      <th>Credit_Score</th>\n",
       "      <th>Loan_Status</th>\n",
       "      <th>Existing_Credit_Cards</th>\n",
       "      <th>Avg_Account_Balance</th>\n",
       "      <th>Account_Category</th>\n",
       "      <th>Tenure_with_Bank</th>\n",
       "      <th>Lead_Outcome</th>\n",
       "    </tr>\n",
       "  </thead>\n",
       "  <tbody>\n",
       "    <tr>\n",
       "      <th>0</th>\n",
       "      <td>Male</td>\n",
       "      <td>96345.0</td>\n",
       "      <td>29</td>\n",
       "      <td>Other</td>\n",
       "      <td>623</td>\n",
       "      <td>Yes</td>\n",
       "      <td>4</td>\n",
       "      <td>742366</td>\n",
       "      <td>Savings Account</td>\n",
       "      <td>2</td>\n",
       "      <td>No</td>\n",
       "    </tr>\n",
       "    <tr>\n",
       "      <th>1</th>\n",
       "      <td>Male</td>\n",
       "      <td>85640.0</td>\n",
       "      <td>43</td>\n",
       "      <td>Other</td>\n",
       "      <td>629</td>\n",
       "      <td>No</td>\n",
       "      <td>0</td>\n",
       "      <td>925537</td>\n",
       "      <td>Current Account</td>\n",
       "      <td>1</td>\n",
       "      <td>No</td>\n",
       "    </tr>\n",
       "    <tr>\n",
       "      <th>2</th>\n",
       "      <td>Male</td>\n",
       "      <td>96345.0</td>\n",
       "      <td>31</td>\n",
       "      <td>Salaried</td>\n",
       "      <td>357</td>\n",
       "      <td>No</td>\n",
       "      <td>0</td>\n",
       "      <td>215949</td>\n",
       "      <td>Savings Account</td>\n",
       "      <td>1</td>\n",
       "      <td>No</td>\n",
       "    </tr>\n",
       "    <tr>\n",
       "      <th>3</th>\n",
       "      <td>Male</td>\n",
       "      <td>85640.0</td>\n",
       "      <td>29</td>\n",
       "      <td>Other</td>\n",
       "      <td>356</td>\n",
       "      <td>No</td>\n",
       "      <td>0</td>\n",
       "      <td>868070</td>\n",
       "      <td>Savings Account</td>\n",
       "      <td>3</td>\n",
       "      <td>No</td>\n",
       "    </tr>\n",
       "    <tr>\n",
       "      <th>4</th>\n",
       "      <td>Female</td>\n",
       "      <td>42820.0</td>\n",
       "      <td>29</td>\n",
       "      <td>Other</td>\n",
       "      <td>572</td>\n",
       "      <td>No</td>\n",
       "      <td>0</td>\n",
       "      <td>657087</td>\n",
       "      <td>Savings Account</td>\n",
       "      <td>3</td>\n",
       "      <td>No</td>\n",
       "    </tr>\n",
       "  </tbody>\n",
       "</table>\n",
       "</div>"
      ],
      "text/plain": [
       "   Gender  Month_Income  Age Occupation  Credit_Score Loan_Status  \\\n",
       "0    Male       96345.0   29      Other           623         Yes   \n",
       "1    Male       85640.0   43      Other           629          No   \n",
       "2    Male       96345.0   31   Salaried           357          No   \n",
       "3    Male       85640.0   29      Other           356          No   \n",
       "4  Female       42820.0   29      Other           572          No   \n",
       "\n",
       "   Existing_Credit_Cards  Avg_Account_Balance Account_Category  \\\n",
       "0                      4               742366  Savings Account   \n",
       "1                      0               925537  Current Account   \n",
       "2                      0               215949  Savings Account   \n",
       "3                      0               868070  Savings Account   \n",
       "4                      0               657087  Savings Account   \n",
       "\n",
       "   Tenure_with_Bank Lead_Outcome  \n",
       "0                 2           No  \n",
       "1                 1           No  \n",
       "2                 1           No  \n",
       "3                 3           No  \n",
       "4                 3           No  "
      ]
     },
     "execution_count": 104,
     "metadata": {},
     "output_type": "execute_result"
    }
   ],
   "source": [
    "df.head()"
   ]
  },
  {
   "cell_type": "code",
   "execution_count": 105,
   "metadata": {},
   "outputs": [
    {
     "data": {
      "image/png": "[encoded data removed]",
      "text/plain": [
       "<Figure size 1000x500 with 2 Axes>"
      ]
     },
     "metadata": {},
     "output_type": "display_data"
    }
   ],
   "source": [
    "columns_with_outliers = ['Month_Income', 'Avg_Account_Balance']\n",
    "\n",
    "plt.figure(figsize=(10, 5))\n",
    "\n",
    "for i, column in enumerate(columns_with_outliers, 1):\n",
    "    plt.subplot(1, len(columns_with_outliers), i)\n",
    "    sns.boxplot(y=df[column])\n",
    "    plt.title(f'Boxplot of {column}')\n",
    "    \n",
    "plt.tight_layout()\n",
    "plt.show()"
   ]
  },
  {
   "cell_type": "code",
   "execution_count": 106,
   "metadata": {},
   "outputs": [
    {
     "name": "stdout",
     "output_type": "stream",
     "text": [
      "Column: Month_Income\n",
      "Removed 0 outliers.\n",
      "****************************************\n",
      "Column: Age\n",
      "Removed 0 outliers.\n",
      "****************************************\n",
      "Column: Credit_Score\n",
      "Removed 0 outliers.\n",
      "****************************************\n",
      "Column: Existing_Credit_Cards\n",
      "Removed 0 outliers.\n",
      "****************************************\n",
      "Column: Avg_Account_Balance\n",
      "Removed 0 outliers.\n",
      "****************************************\n",
      "Column: Tenure_with_Bank\n",
      "Removed 0 outliers.\n",
      "****************************************\n"
     ]
    }
   ],
   "source": [
    "def remove_outliers_zscore(df, threshold=3):\n",
    "    df_cleaned = df.copy()\n",
    "    \n",
    "    for column in df_cleaned.select_dtypes(include=['float64', 'int64']).columns:\n",
    "        z_scores = (df_cleaned[column] - df_cleaned[column].mean()) / df_cleaned[column].std()\n",
    "        \n",
    "        outliers_condition = np.abs(z_scores) > threshold\n",
    "        \n",
    "        df_cleaned = df_cleaned[outliers_condition]\n",
    "        \n",
    "        print(f\"Column: {column}\")\n",
    "        print(f\"Removed {outliers_condition.sum()} outliers.\")\n",
    "        print(\"*\" * 40)\n",
    "        \n",
    "    return df_cleaned\n",
    "\n",
    "df_new = remove_outliers_zscore(df)\n"
   ]
  },
  {
   "cell_type": "code",
   "execution_count": 107,
   "metadata": {},
   "outputs": [
    {
     "data": {
      "text/plain": [
       "['Gender', 'Occupation', 'Loan_Status', 'Account_Category', 'Lead_Outcome']"
      ]
     },
     "execution_count": 107,
     "metadata": {},
     "output_type": "execute_result"
    }
   ],
   "source": [
    "#selecting categorical columns\n",
    "\n",
    "categorical_cols = df.select_dtypes(include=['object']).columns.to_list()\n",
    "categorical_cols"
   ]
  },
  {
   "cell_type": "code",
   "execution_count": 108,
   "metadata": {},
   "outputs": [
    {
     "data": {
      "text/plain": [
       "['Month_Income',\n",
       " 'Age',\n",
       " 'Credit_Score',\n",
       " 'Existing_Credit_Cards',\n",
       " 'Avg_Account_Balance',\n",
       " 'Tenure_with_Bank']"
      ]
     },
     "execution_count": 108,
     "metadata": {},
     "output_type": "execute_result"
    }
   ],
   "source": [
    "#selecting numerical columns\n",
    "\n",
    "numerical_cols = df.select_dtypes(include=['float64','int64']).columns.to_list()\n",
    "numerical_cols"
   ]
  },
  {
   "cell_type": "code",
   "execution_count": 109,
   "metadata": {},
   "outputs": [
    {
     "name": "stdout",
     "output_type": "stream",
     "text": [
      "        Count  Percentage\n",
      "Gender                   \n",
      "Male    57546   54.805714\n",
      "Female  47454   45.194286\n",
      "----------------------------------------\n",
      "               Count  Percentage\n",
      "Occupation                      \n",
      "Self_Employed  44541   42.420000\n",
      "Salaried       30066   28.634286\n",
      "Other          29343   27.945714\n",
      "Entrepreneur    1050    1.000000\n",
      "----------------------------------------\n",
      "             Count  Percentage\n",
      "Loan_Status                   \n",
      "No           73920        70.4\n",
      "Yes          31080        29.6\n",
      "----------------------------------------\n",
      "                         Count  Percentage\n",
      "Account_Category                          \n",
      "Savings Account          44338   42.226667\n",
      "Senior Citizens Account  29191   27.800952\n",
      "Current Account          29097   27.711429\n",
      "Investment Account        2374    2.260952\n",
      "----------------------------------------\n",
      "              Count  Percentage\n",
      "Lead_Outcome                   \n",
      "No            63605    60.57619\n",
      "Yes           41395    39.42381\n",
      "----------------------------------------\n"
     ]
    }
   ],
   "source": [
    "for column in categorical_cols:\n",
    "    value_counts = df[column].value_counts()\n",
    "    \n",
    "    percentages = (value_counts / len(df)) * 100\n",
    "    \n",
    "    print(pd.DataFrame({'Count': value_counts, 'Percentage': percentages}))\n",
    "    print(\"-\" * 40)"
   ]
  },
  {
   "cell_type": "code",
   "execution_count": 110,
   "metadata": {},
   "outputs": [
    {
     "name": "stdout",
     "output_type": "stream",
     "text": [
      "               Count  Percentage\n",
      "Month_Income                    \n",
      "85640.000000    8938    8.512381\n",
      "42820.000000    8934    8.508571\n",
      "107050.000000   8916    8.491429\n",
      "74935.000000    8897    8.473333\n",
      "64230.000000    8824    8.403810\n",
      "96345.000000    8806    8.386667\n",
      "53525.000000    8773    8.355238\n",
      "210500.000000   2960    2.819048\n",
      "199975.000000   2944    2.803810\n",
      "136825.000000   2931    2.791429\n",
      "147350.000000   2930    2.790476\n",
      "126300.000000   2929    2.789524\n",
      "105250.000000   2903    2.764762\n",
      "189450.000000   2899    2.760952\n",
      "168400.000000   2890    2.752381\n",
      "94725.000000    2862    2.725714\n",
      "115775.000000   2858    2.721905\n",
      "84200.000000    2843    2.707619\n",
      "157875.000000   2840    2.704762\n",
      "73675.000000    2830    2.695238\n",
      "178925.000000   2807    2.673333\n",
      "101550.327858   2486    2.367619\n",
      "----------------------------------------\n",
      "     Count  Percentage\n",
      "Age                   \n",
      "28    6324    6.022857\n",
      "29    5683    5.412381\n",
      "27    5585    5.319048\n",
      "30    4601    4.381905\n",
      "26    3865    3.680952\n",
      "..     ...         ...\n",
      "81     359    0.341905\n",
      "82     328    0.312381\n",
      "83     328    0.312381\n",
      "84     290    0.276190\n",
      "85     284    0.270476\n",
      "\n",
      "[62 rows x 2 columns]\n",
      "----------------------------------------\n",
      "              Count  Percentage\n",
      "Credit_Score                   \n",
      "742             241    0.229524\n",
      "724             239    0.227619\n",
      "777             238    0.226667\n",
      "835             237    0.225714\n",
      "754             235    0.223810\n",
      "...             ...         ...\n",
      "598             153    0.145714\n",
      "309             153    0.145714\n",
      "640             153    0.145714\n",
      "544             149    0.141905\n",
      "443             132    0.125714\n",
      "\n",
      "[552 rows x 2 columns]\n",
      "----------------------------------------\n",
      "                       Count  Percentage\n",
      "Existing_Credit_Cards                   \n",
      "0                      73920   70.400000\n",
      "3                       7418    7.064762\n",
      "4                       4370    4.161905\n",
      "6                       4329    4.122857\n",
      "7                       4271    4.067619\n",
      "5                       4259    4.056190\n",
      "1                       3263    3.107619\n",
      "2                       3170    3.019048\n",
      "----------------------------------------\n",
      "                     Count  Percentage\n",
      "Avg_Account_Balance                   \n",
      "4022185                 44    0.041905\n",
      "936814                  14    0.013333\n",
      "2521592                 13    0.012381\n",
      "1387777                 13    0.012381\n",
      "996203                  12    0.011429\n",
      "...                    ...         ...\n",
      "1939719                  1    0.000952\n",
      "745953                   1    0.000952\n",
      "1299471                  1    0.000952\n",
      "560246                   1    0.000952\n",
      "1918608                  1    0.000952\n",
      "\n",
      "[78142 rows x 2 columns]\n",
      "----------------------------------------\n",
      "                  Count  Percentage\n",
      "Tenure_with_Bank                   \n",
      "5                 16492   15.706667\n",
      "2                 12796   12.186667\n",
      "1                 12754   12.146667\n",
      "3                 12747   12.140000\n",
      "4                 12667   12.063810\n",
      "11                 3844    3.660952\n",
      "9                  3811    3.629524\n",
      "7                  3803    3.621905\n",
      "13                 3801    3.620000\n",
      "10                 3792    3.611429\n",
      "15                 3725    3.547619\n",
      "12                 3725    3.547619\n",
      "6                  3712    3.535238\n",
      "8                  3688    3.512381\n",
      "14                 3643    3.469524\n",
      "----------------------------------------\n"
     ]
    }
   ],
   "source": [
    "for column in numerical_cols:\n",
    "    value_counts = df[column].value_counts()\n",
    "    \n",
    "    percentages = (value_counts / len(df)) * 100\n",
    "    \n",
    "    print(pd.DataFrame({'Count': value_counts, 'Percentage': percentages}))\n",
    "    print(\"-\" * 40)"
   ]
  },
  {
   "cell_type": "code",
   "execution_count": 111,
   "metadata": {},
   "outputs": [
    {
     "name": "stdout",
     "output_type": "stream",
     "text": [
      "Tenure_with_Bank\n",
      "10    31506\n",
      "15    22530\n",
      "2     12796\n",
      "1     12754\n",
      "3     12747\n",
      "4     12667\n",
      "Name: count, dtype: int64\n"
     ]
    },
    {
     "name": "stderr",
     "output_type": "stream",
     "text": [
      "C:\\Users\\Gen\\AppData\\Local\\Temp\\ipykernel_3776\\2923662720.py:18: FutureWarning: Downcasting behavior in `replace` is deprecated and will be removed in a future version. To retain the old behavior, explicitly call `result.infer_objects(copy=False)`. To opt-in to the future behavior, set `pd.set_option('future.no_silent_downcasting', True)`\n",
      "  df['Tenure_with_Bank'] = df['Tenure_with_Bank'].replace({'5-10': 10, '10+': 15})\n"
     ]
    }
   ],
   "source": [
    "def categorize_tenure(value):\n",
    "    if value in [1, 2, 3, 4]:\n",
    "        return value\n",
    "    elif value >= 5 and value <10:\n",
    "        return '5-10'\n",
    "    elif value >= 10:\n",
    "        return '10+'\n",
    "\n",
    "# Apply the function to create a new column with categorized values\n",
    "df['Tenure_with_Bank_Categorized'] = df['Tenure_with_Bank'].apply(categorize_tenure)\n",
    "\n",
    "# Update the original column with the new categorized values\n",
    "df['Tenure_with_Bank'] = df['Tenure_with_Bank_Categorized']\n",
    "\n",
    "# Drop the temporary column\n",
    "df.drop(columns=['Tenure_with_Bank_Categorized'], inplace=True)\n",
    "\n",
    "df['Tenure_with_Bank'] = df['Tenure_with_Bank'].replace({'5-10': 10, '10+': 15})\n",
    "\n",
    "print(df['Tenure_with_Bank'].value_counts())\n",
    "\n"
   ]
  },
  {
   "cell_type": "code",
   "execution_count": 112,
   "metadata": {},
   "outputs": [
    {
     "name": "stdout",
     "output_type": "stream",
     "text": [
      "Value counts before undersampling:\n",
      "Existing_Credit_Cards\n",
      "0    73920\n",
      "1    31080\n",
      "Name: count, dtype: int64\n"
     ]
    },
    {
     "name": "stderr",
     "output_type": "stream",
     "text": [
      "C:\\Users\\Gen\\AppData\\Local\\Temp\\ipykernel_3776\\2567631106.py:27: FutureWarning: \n",
      "\n",
      "Passing `palette` without assigning `hue` is deprecated and will be removed in v0.14.0. Assign the `x` variable to `hue` and set `legend=False` for the same effect.\n",
      "\n",
      "  sns.barplot(x=value_counts_resampled.index, y=value_counts_resampled.values, palette='viridis')\n"
     ]
    },
    {
     "data": {
      "image/png": "[encoded data removed]",
      "text/plain": [
       "<Figure size 800x500 with 1 Axes>"
      ]
     },
     "metadata": {},
     "output_type": "display_data"
    }
   ],
   "source": [
    "\n",
    "from imblearn.under_sampling import RandomUnderSampler\n",
    "\n",
    "# Handling Existing_Credit_Cards\n",
    "df['Existing_Credit_Cards'] = df['Existing_Credit_Cards'].apply(lambda x: 0 if x == 0 else 1)\n",
    "\n",
    "# Print the value counts before undersampling\n",
    "print(\"Value counts before undersampling:\")\n",
    "print(df['Existing_Credit_Cards'].value_counts())\n",
    "\n",
    "# Prepare data for undersampling\n",
    "X = df.drop(columns='Existing_Credit_Cards')  \n",
    "y = df['Existing_Credit_Cards']                \n",
    "\n",
    "# Undersample the majority class\n",
    "undersampler = RandomUnderSampler(random_state=42)\n",
    "X_resampled, y_resampled = undersampler.fit_resample(X, y)\n",
    "\n",
    "# Combine the resampled data back into a DataFrame\n",
    "df_resampled = pd.DataFrame(X_resampled, columns=X.columns)\n",
    "df_resampled['Existing_Credit_Cards'] = y_resampled\n",
    "\n",
    "# Get the value counts after undersampling\n",
    "value_counts_resampled = df_resampled['Existing_Credit_Cards'].value_counts()\n",
    "\n",
    "# Plotting the distribution after undersampling\n",
    "plt.figure(figsize=(8, 5))\n",
    "sns.barplot(x=value_counts_resampled.index, y=value_counts_resampled.values, palette='viridis')\n",
    "plt.title('Distribution of Existing Credit Cards After Undersampling')\n",
    "plt.xlabel('Existing Credit Cards (0 = No, 1 = Yes)')\n",
    "plt.ylabel('Count')\n",
    "plt.xticks(ticks=value_counts_resampled.index, labels=['No', 'Yes'])\n",
    "plt.grid(axis='y')\n",
    "plt.show()\n"
   ]
  },
  {
   "cell_type": "code",
   "execution_count": 113,
   "metadata": {},
   "outputs": [
    {
     "name": "stdout",
     "output_type": "stream",
     "text": [
      "Original value counts:\n",
      "Occupation\n",
      "Self_Employed    44541\n",
      "Salaried         30066\n",
      "Other            29343\n",
      "Entrepreneur      1050\n",
      "Name: count, dtype: int64\n",
      "\n",
      "Updated value counts after combining 'Entrepreneur' with 'Other':\n",
      "Occupation\n",
      "Self_Employed    44541\n",
      "Other            30393\n",
      "Salaried         30066\n",
      "Name: count, dtype: int64\n"
     ]
    }
   ],
   "source": [
    "import pandas as pd\n",
    "\n",
    "print(\"Original value counts:\")\n",
    "print(df['Occupation'].value_counts())\n",
    "\n",
    "# Combine 'Entrepreneur' with 'Other'\n",
    "df['Occupation'] = df['Occupation'].replace({'Entrepreneur': 'Other'})\n",
    "\n",
    "# Display updated value counts to verify the change\n",
    "print(\"\\nUpdated value counts after combining 'Entrepreneur' with 'Other':\")\n",
    "print(df['Occupation'].value_counts())\n"
   ]
  },
  {
   "cell_type": "code",
   "execution_count": 114,
   "metadata": {},
   "outputs": [
    {
     "name": "stdout",
     "output_type": "stream",
     "text": [
      "\n",
      "Statistical summary of the dataset\n"
     ]
    },
    {
     "data": {
      "text/html": [
       "<div>\n",
       "<style scoped>\n",
       "    .dataframe tbody tr th:only-of-type {\n",
       "        vertical-align: middle;\n",
       "    }\n",
       "\n",
       "    .dataframe tbody tr th {\n",
       "        vertical-align: top;\n",
       "    }\n",
       "\n",
       "    .dataframe thead th {\n",
       "        text-align: right;\n",
       "    }\n",
       "</style>\n",
       "<table border=\"1\" class=\"dataframe\">\n",
       "  <thead>\n",
       "    <tr style=\"text-align: right;\">\n",
       "      <th></th>\n",
       "      <th>Month_Income</th>\n",
       "      <th>Age</th>\n",
       "      <th>Credit_Score</th>\n",
       "      <th>Existing_Credit_Cards</th>\n",
       "      <th>Avg_Account_Balance</th>\n",
       "      <th>Tenure_with_Bank</th>\n",
       "    </tr>\n",
       "  </thead>\n",
       "  <tbody>\n",
       "    <tr>\n",
       "      <th>count</th>\n",
       "      <td>105000.000000</td>\n",
       "      <td>105000.000000</td>\n",
       "      <td>105000.000000</td>\n",
       "      <td>105000.000000</td>\n",
       "      <td>1.050000e+05</td>\n",
       "      <td>105000.000000</td>\n",
       "    </tr>\n",
       "    <tr>\n",
       "      <th>mean</th>\n",
       "      <td>101550.327858</td>\n",
       "      <td>43.875381</td>\n",
       "      <td>602.642581</td>\n",
       "      <td>0.296000</td>\n",
       "      <td>1.134120e+06</td>\n",
       "      <td>7.431095</td>\n",
       "    </tr>\n",
       "    <tr>\n",
       "      <th>std</th>\n",
       "      <td>44996.550975</td>\n",
       "      <td>14.873280</td>\n",
       "      <td>180.611716</td>\n",
       "      <td>0.456493</td>\n",
       "      <td>8.663714e+05</td>\n",
       "      <td>5.166731</td>\n",
       "    </tr>\n",
       "    <tr>\n",
       "      <th>min</th>\n",
       "      <td>42820.000000</td>\n",
       "      <td>24.000000</td>\n",
       "      <td>300.000000</td>\n",
       "      <td>0.000000</td>\n",
       "      <td>2.259700e+04</td>\n",
       "      <td>1.000000</td>\n",
       "    </tr>\n",
       "    <tr>\n",
       "      <th>25%</th>\n",
       "      <td>64230.000000</td>\n",
       "      <td>30.000000</td>\n",
       "      <td>444.000000</td>\n",
       "      <td>0.000000</td>\n",
       "      <td>6.039600e+05</td>\n",
       "      <td>3.000000</td>\n",
       "    </tr>\n",
       "    <tr>\n",
       "      <th>50%</th>\n",
       "      <td>94725.000000</td>\n",
       "      <td>43.000000</td>\n",
       "      <td>590.000000</td>\n",
       "      <td>0.000000</td>\n",
       "      <td>8.964700e+05</td>\n",
       "      <td>10.000000</td>\n",
       "    </tr>\n",
       "    <tr>\n",
       "      <th>75%</th>\n",
       "      <td>115775.000000</td>\n",
       "      <td>54.000000</td>\n",
       "      <td>771.000000</td>\n",
       "      <td>1.000000</td>\n",
       "      <td>1.371552e+06</td>\n",
       "      <td>10.000000</td>\n",
       "    </tr>\n",
       "    <tr>\n",
       "      <th>max</th>\n",
       "      <td>210500.000000</td>\n",
       "      <td>85.000000</td>\n",
       "      <td>900.000000</td>\n",
       "      <td>1.000000</td>\n",
       "      <td>9.908858e+06</td>\n",
       "      <td>15.000000</td>\n",
       "    </tr>\n",
       "  </tbody>\n",
       "</table>\n",
       "</div>"
      ],
      "text/plain": [
       "        Month_Income            Age   Credit_Score  Existing_Credit_Cards  \\\n",
       "count  105000.000000  105000.000000  105000.000000          105000.000000   \n",
       "mean   101550.327858      43.875381     602.642581               0.296000   \n",
       "std     44996.550975      14.873280     180.611716               0.456493   \n",
       "min     42820.000000      24.000000     300.000000               0.000000   \n",
       "25%     64230.000000      30.000000     444.000000               0.000000   \n",
       "50%     94725.000000      43.000000     590.000000               0.000000   \n",
       "75%    115775.000000      54.000000     771.000000               1.000000   \n",
       "max    210500.000000      85.000000     900.000000               1.000000   \n",
       "\n",
       "       Avg_Account_Balance  Tenure_with_Bank  \n",
       "count         1.050000e+05     105000.000000  \n",
       "mean          1.134120e+06          7.431095  \n",
       "std           8.663714e+05          5.166731  \n",
       "min           2.259700e+04          1.000000  \n",
       "25%           6.039600e+05          3.000000  \n",
       "50%           8.964700e+05         10.000000  \n",
       "75%           1.371552e+06         10.000000  \n",
       "max           9.908858e+06         15.000000  "
      ]
     },
     "execution_count": 114,
     "metadata": {},
     "output_type": "execute_result"
    }
   ],
   "source": [
    "print(\"\\nStatistical summary of the dataset\")\n",
    "df.describe()"
   ]
  },
  {
   "cell_type": "code",
   "execution_count": 115,
   "metadata": {},
   "outputs": [
    {
     "name": "stdout",
     "output_type": "stream",
     "text": [
      "Index(['Gender', 'Month_Income', 'Age', 'Occupation', 'Credit_Score',\n",
      "       'Loan_Status', 'Existing_Credit_Cards', 'Avg_Account_Balance',\n",
      "       'Account_Category', 'Tenure_with_Bank', 'Lead_Outcome'],\n",
      "      dtype='object')\n"
     ]
    }
   ],
   "source": [
    "print(df.columns)"
   ]
  },
  {
   "cell_type": "code",
   "execution_count": 116,
   "metadata": {},
   "outputs": [],
   "source": [
    "df['Lead_Outcome']=df['Lead_Outcome'].apply(lambda x : 1 if x=='Yes' else 0) \n"
   ]
  },
  {
   "cell_type": "code",
   "execution_count": 117,
   "metadata": {},
   "outputs": [
    {
     "name": "stdout",
     "output_type": "stream",
     "text": [
      "   Month_Income  Age  Credit_Score  Existing_Credit_Cards  \\\n",
      "0       96345.0   29           623                      1   \n",
      "1       85640.0   43           629                      0   \n",
      "2       96345.0   31           357                      0   \n",
      "3       85640.0   29           356                      0   \n",
      "4       42820.0   29           572                      0   \n",
      "\n",
      "   Avg_Account_Balance  Tenure_with_Bank  Lead_Outcome  Gender_Female  \\\n",
      "0               742366                 2             0            0.0   \n",
      "1               925537                 1             0            0.0   \n",
      "2               215949                 1             0            0.0   \n",
      "3               868070                 3             0            0.0   \n",
      "4               657087                 3             0            1.0   \n",
      "\n",
      "   Gender_Male  Occupation_Other  Occupation_Salaried  \\\n",
      "0          1.0               1.0                  0.0   \n",
      "1          1.0               1.0                  0.0   \n",
      "2          1.0               0.0                  1.0   \n",
      "3          1.0               1.0                  0.0   \n",
      "4          0.0               1.0                  0.0   \n",
      "\n",
      "   Occupation_Self_Employed  Loan_Status_No  Loan_Status_Yes  \\\n",
      "0                       0.0             0.0              1.0   \n",
      "1                       0.0             1.0              0.0   \n",
      "2                       0.0             1.0              0.0   \n",
      "3                       0.0             1.0              0.0   \n",
      "4                       0.0             1.0              0.0   \n",
      "\n",
      "   Account_Category_Current Account  Account_Category_Investment Account  \\\n",
      "0                               0.0                                  0.0   \n",
      "1                               1.0                                  0.0   \n",
      "2                               0.0                                  0.0   \n",
      "3                               0.0                                  0.0   \n",
      "4                               0.0                                  0.0   \n",
      "\n",
      "   Account_Category_Savings Account  Account_Category_Senior Citizens Account  \n",
      "0                               1.0                                       0.0  \n",
      "1                               0.0                                       0.0  \n",
      "2                               1.0                                       0.0  \n",
      "3                               1.0                                       0.0  \n",
      "4                               1.0                                       0.0  \n"
     ]
    }
   ],
   "source": [
    "from sklearn.preprocessing import OneHotEncoder\n",
    "\n",
    "categorical_columns = ['Gender','Occupation', 'Loan_Status', 'Account_Category']\n",
    "\n",
    "encoder = OneHotEncoder( sparse_output=False)  \n",
    "\n",
    "encoded_columns = encoder.fit_transform(df[categorical_columns])\n",
    "\n",
    "encoded_df = pd.DataFrame(encoded_columns, columns=encoder.get_feature_names_out(categorical_columns))\n",
    "\n",
    "df_final = pd.concat([df.drop(columns=categorical_columns), encoded_df], axis=1)\n",
    "\n",
    "print(df_final.head())\n",
    "\n",
    "\n"
   ]
  },
  {
   "cell_type": "code",
   "execution_count": 118,
   "metadata": {},
   "outputs": [
    {
     "data": {
      "text/html": [
       "<div>\n",
       "<style scoped>\n",
       "    .dataframe tbody tr th:only-of-type {\n",
       "        vertical-align: middle;\n",
       "    }\n",
       "\n",
       "    .dataframe tbody tr th {\n",
       "        vertical-align: top;\n",
       "    }\n",
       "\n",
       "    .dataframe thead th {\n",
       "        text-align: right;\n",
       "    }\n",
       "</style>\n",
       "<table border=\"1\" class=\"dataframe\">\n",
       "  <thead>\n",
       "    <tr style=\"text-align: right;\">\n",
       "      <th></th>\n",
       "      <th>Month_Income</th>\n",
       "      <th>Age</th>\n",
       "      <th>Credit_Score</th>\n",
       "      <th>Existing_Credit_Cards</th>\n",
       "      <th>Avg_Account_Balance</th>\n",
       "      <th>Tenure_with_Bank</th>\n",
       "      <th>Lead_Outcome</th>\n",
       "      <th>Gender_Female</th>\n",
       "      <th>Gender_Male</th>\n",
       "      <th>Occupation_Other</th>\n",
       "      <th>Occupation_Salaried</th>\n",
       "      <th>Occupation_Self_Employed</th>\n",
       "      <th>Loan_Status_No</th>\n",
       "      <th>Loan_Status_Yes</th>\n",
       "      <th>Account_Category_Current Account</th>\n",
       "      <th>Account_Category_Investment Account</th>\n",
       "      <th>Account_Category_Savings Account</th>\n",
       "      <th>Account_Category_Senior Citizens Account</th>\n",
       "    </tr>\n",
       "  </thead>\n",
       "  <tbody>\n",
       "    <tr>\n",
       "      <th>0</th>\n",
       "      <td>96345.0</td>\n",
       "      <td>29</td>\n",
       "      <td>623</td>\n",
       "      <td>1</td>\n",
       "      <td>742366</td>\n",
       "      <td>2</td>\n",
       "      <td>0</td>\n",
       "      <td>0.0</td>\n",
       "      <td>1.0</td>\n",
       "      <td>1.0</td>\n",
       "      <td>0.0</td>\n",
       "      <td>0.0</td>\n",
       "      <td>0.0</td>\n",
       "      <td>1.0</td>\n",
       "      <td>0.0</td>\n",
       "      <td>0.0</td>\n",
       "      <td>1.0</td>\n",
       "      <td>0.0</td>\n",
       "    </tr>\n",
       "    <tr>\n",
       "      <th>1</th>\n",
       "      <td>85640.0</td>\n",
       "      <td>43</td>\n",
       "      <td>629</td>\n",
       "      <td>0</td>\n",
       "      <td>925537</td>\n",
       "      <td>1</td>\n",
       "      <td>0</td>\n",
       "      <td>0.0</td>\n",
       "      <td>1.0</td>\n",
       "      <td>1.0</td>\n",
       "      <td>0.0</td>\n",
       "      <td>0.0</td>\n",
       "      <td>1.0</td>\n",
       "      <td>0.0</td>\n",
       "      <td>1.0</td>\n",
       "      <td>0.0</td>\n",
       "      <td>0.0</td>\n",
       "      <td>0.0</td>\n",
       "    </tr>\n",
       "    <tr>\n",
       "      <th>2</th>\n",
       "      <td>96345.0</td>\n",
       "      <td>31</td>\n",
       "      <td>357</td>\n",
       "      <td>0</td>\n",
       "      <td>215949</td>\n",
       "      <td>1</td>\n",
       "      <td>0</td>\n",
       "      <td>0.0</td>\n",
       "      <td>1.0</td>\n",
       "      <td>0.0</td>\n",
       "      <td>1.0</td>\n",
       "      <td>0.0</td>\n",
       "      <td>1.0</td>\n",
       "      <td>0.0</td>\n",
       "      <td>0.0</td>\n",
       "      <td>0.0</td>\n",
       "      <td>1.0</td>\n",
       "      <td>0.0</td>\n",
       "    </tr>\n",
       "    <tr>\n",
       "      <th>3</th>\n",
       "      <td>85640.0</td>\n",
       "      <td>29</td>\n",
       "      <td>356</td>\n",
       "      <td>0</td>\n",
       "      <td>868070</td>\n",
       "      <td>3</td>\n",
       "      <td>0</td>\n",
       "      <td>0.0</td>\n",
       "      <td>1.0</td>\n",
       "      <td>1.0</td>\n",
       "      <td>0.0</td>\n",
       "      <td>0.0</td>\n",
       "      <td>1.0</td>\n",
       "      <td>0.0</td>\n",
       "      <td>0.0</td>\n",
       "      <td>0.0</td>\n",
       "      <td>1.0</td>\n",
       "      <td>0.0</td>\n",
       "    </tr>\n",
       "    <tr>\n",
       "      <th>4</th>\n",
       "      <td>42820.0</td>\n",
       "      <td>29</td>\n",
       "      <td>572</td>\n",
       "      <td>0</td>\n",
       "      <td>657087</td>\n",
       "      <td>3</td>\n",
       "      <td>0</td>\n",
       "      <td>1.0</td>\n",
       "      <td>0.0</td>\n",
       "      <td>1.0</td>\n",
       "      <td>0.0</td>\n",
       "      <td>0.0</td>\n",
       "      <td>1.0</td>\n",
       "      <td>0.0</td>\n",
       "      <td>0.0</td>\n",
       "      <td>0.0</td>\n",
       "      <td>1.0</td>\n",
       "      <td>0.0</td>\n",
       "    </tr>\n",
       "  </tbody>\n",
       "</table>\n",
       "</div>"
      ],
      "text/plain": [
       "   Month_Income  Age  Credit_Score  Existing_Credit_Cards  \\\n",
       "0       96345.0   29           623                      1   \n",
       "1       85640.0   43           629                      0   \n",
       "2       96345.0   31           357                      0   \n",
       "3       85640.0   29           356                      0   \n",
       "4       42820.0   29           572                      0   \n",
       "\n",
       "   Avg_Account_Balance  Tenure_with_Bank  Lead_Outcome  Gender_Female  \\\n",
       "0               742366                 2             0            0.0   \n",
       "1               925537                 1             0            0.0   \n",
       "2               215949                 1             0            0.0   \n",
       "3               868070                 3             0            0.0   \n",
       "4               657087                 3             0            1.0   \n",
       "\n",
       "   Gender_Male  Occupation_Other  Occupation_Salaried  \\\n",
       "0          1.0               1.0                  0.0   \n",
       "1          1.0               1.0                  0.0   \n",
       "2          1.0               0.0                  1.0   \n",
       "3          1.0               1.0                  0.0   \n",
       "4          0.0               1.0                  0.0   \n",
       "\n",
       "   Occupation_Self_Employed  Loan_Status_No  Loan_Status_Yes  \\\n",
       "0                       0.0             0.0              1.0   \n",
       "1                       0.0             1.0              0.0   \n",
       "2                       0.0             1.0              0.0   \n",
       "3                       0.0             1.0              0.0   \n",
       "4                       0.0             1.0              0.0   \n",
       "\n",
       "   Account_Category_Current Account  Account_Category_Investment Account  \\\n",
       "0                               0.0                                  0.0   \n",
       "1                               1.0                                  0.0   \n",
       "2                               0.0                                  0.0   \n",
       "3                               0.0                                  0.0   \n",
       "4                               0.0                                  0.0   \n",
       "\n",
       "   Account_Category_Savings Account  Account_Category_Senior Citizens Account  \n",
       "0                               1.0                                       0.0  \n",
       "1                               0.0                                       0.0  \n",
       "2                               1.0                                       0.0  \n",
       "3                               1.0                                       0.0  \n",
       "4                               1.0                                       0.0  "
      ]
     },
     "execution_count": 118,
     "metadata": {},
     "output_type": "execute_result"
    }
   ],
   "source": [
    "df_final.head()"
   ]
  },
  {
   "cell_type": "code",
   "execution_count": 119,
   "metadata": {},
   "outputs": [
    {
     "name": "stdout",
     "output_type": "stream",
     "text": [
      "Missing values in df_final: Month_Income                                0\n",
      "Age                                         0\n",
      "Credit_Score                                0\n",
      "Existing_Credit_Cards                       0\n",
      "Avg_Account_Balance                         0\n",
      "Tenure_with_Bank                            0\n",
      "Lead_Outcome                                0\n",
      "Gender_Female                               0\n",
      "Gender_Male                                 0\n",
      "Occupation_Other                            0\n",
      "Occupation_Salaried                         0\n",
      "Occupation_Self_Employed                    0\n",
      "Loan_Status_No                              0\n",
      "Loan_Status_Yes                             0\n",
      "Account_Category_Current Account            0\n",
      "Account_Category_Investment Account         0\n",
      "Account_Category_Savings Account            0\n",
      "Account_Category_Senior Citizens Account    0\n",
      "dtype: int64\n"
     ]
    }
   ],
   "source": [
    "print(\"Missing values in df_final:\", pd.isnull(df_final).sum())\n"
   ]
  },
  {
   "cell_type": "code",
   "execution_count": 121,
   "metadata": {},
   "outputs": [
    {
     "name": "stdout",
     "output_type": "stream",
     "text": [
      "Month_Income                                0\n",
      "Age                                         0\n",
      "Credit_Score                                0\n",
      "Existing_Credit_Cards                       0\n",
      "Avg_Account_Balance                         0\n",
      "Tenure_with_Bank                            0\n",
      "Lead_Outcome                                0\n",
      "Gender_Female                               0\n",
      "Gender_Male                                 0\n",
      "Occupation_Other                            0\n",
      "Occupation_Salaried                         0\n",
      "Occupation_Self_Employed                    0\n",
      "Loan_Status_No                              0\n",
      "Loan_Status_Yes                             0\n",
      "Account_Category_Current Account            0\n",
      "Account_Category_Investment Account         0\n",
      "Account_Category_Savings Account            0\n",
      "Account_Category_Senior Citizens Account    0\n",
      "dtype: int64\n"
     ]
    }
   ],
   "source": [
    "print(df_final.isnull().sum())\n"
   ]
  },
  {
   "cell_type": "code",
   "execution_count": 122,
   "metadata": {},
   "outputs": [],
   "source": [
    "X = df_final.drop('Lead_Outcome', axis=1)\n",
    "y = df_final['Lead_Outcome']"
   ]
  },
  {
   "cell_type": "code",
   "execution_count": 123,
   "metadata": {},
   "outputs": [],
   "source": [
    "# Split data\n",
    "X_train, X_test, y_train, y_test = train_test_split(X, y, test_size=0.3, random_state=42)\n",
    "# K-Fold Cross Validation\n",
    "kfold = StratifiedKFold(n_splits=5, shuffle=True, random_state=42)\n"
   ]
  },
  {
   "cell_type": "code",
   "execution_count": 124,
   "metadata": {},
   "outputs": [],
   "source": [
    "#check each model accuracy one by one\n",
    "def model_acc(model):\n",
    "    model.fit(X_train, y_train)\n",
    "    acc = model.score(X_test, y_test)\n",
    "    print(str(model)+ ' --> ' +str(acc))"
   ]
  },
  {
   "cell_type": "code",
   "execution_count": 125,
   "metadata": {},
   "outputs": [],
   "source": [
    "from sklearn.metrics import confusion_matrix, classification_report, ConfusionMatrixDisplay\n"
   ]
  },
  {
   "cell_type": "code",
   "execution_count": 126,
   "metadata": {},
   "outputs": [
    {
     "name": "stdout",
     "output_type": "stream",
     "text": [
      "LogisticRegression() --> 0.8403809523809523\n",
      "Classification Report:\n",
      "               precision    recall  f1-score   support\n",
      "\n",
      "           0       0.90      0.83      0.86     19081\n",
      "           1       0.76      0.86      0.81     12419\n",
      "\n",
      "    accuracy                           0.84     31500\n",
      "   macro avg       0.83      0.84      0.84     31500\n",
      "weighted avg       0.85      0.84      0.84     31500\n",
      "\n"
     ]
    },
    {
     "name": "stderr",
     "output_type": "stream",
     "text": [
      "c:\\Users\\Gen\\AppData\\Local\\Programs\\Python\\Python312\\Lib\\site-packages\\sklearn\\linear_model\\_logistic.py:469: ConvergenceWarning: lbfgs failed to converge (status=1):\n",
      "STOP: TOTAL NO. of ITERATIONS REACHED LIMIT.\n",
      "\n",
      "Increase the number of iterations (max_iter) or scale the data as shown in:\n",
      "    https://scikit-learn.org/stable/modules/preprocessing.html\n",
      "Please also refer to the documentation for alternative solver options:\n",
      "    https://scikit-learn.org/stable/modules/linear_model.html#logistic-regression\n",
      "  n_iter_i = _check_optimize_result(\n"
     ]
    },
    {
     "data": {
      "image/png": "[encoded data removed]",
      "text/plain": [
       "<Figure size 800x600 with 2 Axes>"
      ]
     },
     "metadata": {},
     "output_type": "display_data"
    }
   ],
   "source": [
    "from sklearn.linear_model import LogisticRegression\n",
    "log = LogisticRegression()\n",
    "model_acc(log)\n",
    "\n",
    "# Predict on test set\n",
    "y_pred = log.predict(X_test)\n",
    "\n",
    "# Confusion matrix\n",
    "conf_matrix = confusion_matrix(y_test, y_pred)\n",
    "\n",
    "# Classification report\n",
    "class_report = classification_report(y_test, y_pred)\n",
    "print(\"Classification Report:\\n\", class_report)\n",
    "\n",
    "# Confusion matrix plot\n",
    "plt.figure(figsize=(8, 6))\n",
    "sns.heatmap(conf_matrix, annot=True, fmt='g', cmap='Blues')\n",
    "plt.title('Confusion Matrix for Logistic Regression')\n",
    "plt.xlabel('Predicted Labels')\n",
    "plt.ylabel('True Labels')\n",
    "plt.show()"
   ]
  },
  {
   "cell_type": "code",
   "execution_count": 127,
   "metadata": {},
   "outputs": [
    {
     "name": "stdout",
     "output_type": "stream",
     "text": [
      "KNeighborsClassifier() --> 0.939047619047619\n",
      "Classification Report:\n",
      "               precision    recall  f1-score   support\n",
      "\n",
      "           0       0.93      0.98      0.95     19081\n",
      "           1       0.96      0.88      0.92     12419\n",
      "\n",
      "    accuracy                           0.94     31500\n",
      "   macro avg       0.94      0.93      0.94     31500\n",
      "weighted avg       0.94      0.94      0.94     31500\n",
      "\n"
     ]
    },
    {
     "data": {
      "image/png": "[encoded data removed]",
      "text/plain": [
       "<Figure size 800x600 with 2 Axes>"
      ]
     },
     "metadata": {},
     "output_type": "display_data"
    }
   ],
   "source": [
    "from sklearn.neighbors import KNeighborsClassifier\n",
    "kn=KNeighborsClassifier()\n",
    "model_acc(kn)\n",
    "\n",
    "# Predict on test set\n",
    "y_pred = kn.predict(X_test)\n",
    "\n",
    "# Confusion matrix\n",
    "conf_matrix = confusion_matrix(y_test, y_pred)\n",
    "\n",
    "# Classification report\n",
    "class_report = classification_report(y_test, y_pred)\n",
    "print(\"Classification Report:\\n\", class_report)\n",
    "\n",
    "# Confusion matrix plot\n",
    "plt.figure(figsize=(8, 6))\n",
    "sns.heatmap(conf_matrix, annot=True, fmt='g', cmap='Blues')\n",
    "plt.title('Confusion Matrix for KNN')\n",
    "plt.xlabel('Predicted Labels')\n",
    "plt.ylabel('True Labels')\n",
    "plt.show()\n",
    "\n"
   ]
  },
  {
   "cell_type": "code",
   "execution_count": 128,
   "metadata": {},
   "outputs": [
    {
     "name": "stdout",
     "output_type": "stream",
     "text": [
      "SVC() --> 0.871904761904762\n",
      "Classification Report:\n",
      "               precision    recall  f1-score   support\n",
      "\n",
      "           0       0.83      1.00      0.90     19081\n",
      "           1       1.00      0.68      0.81     12419\n",
      "\n",
      "    accuracy                           0.87     31500\n",
      "   macro avg       0.91      0.84      0.86     31500\n",
      "weighted avg       0.89      0.87      0.87     31500\n",
      "\n"
     ]
    },
    {
     "data": {
      "image/png": "[encoded data removed]",
      "text/plain": [
       "<Figure size 800x600 with 2 Axes>"
      ]
     },
     "metadata": {},
     "output_type": "display_data"
    }
   ],
   "source": [
    "from sklearn.svm import SVC\n",
    "svc_m = SVC()\n",
    "model_acc(svc_m)\n",
    "\n",
    "# Predict on test set\n",
    "y_pred = svc_m.predict(X_test)\n",
    "\n",
    "# Confusion matrix\n",
    "conf_matrix = confusion_matrix(y_test, y_pred)\n",
    "\n",
    "# Classification report\n",
    "class_report = classification_report(y_test, y_pred)\n",
    "print(\"Classification Report:\\n\", class_report)\n",
    "\n",
    "# Confusion matrix plot\n",
    "plt.figure(figsize=(8, 6))\n",
    "sns.heatmap(conf_matrix, annot=True, fmt='g', cmap='Blues')\n",
    "plt.title('Confusion Matrix for SVC')\n",
    "plt.xlabel('Predicted Labels')\n",
    "plt.ylabel('True Labels')\n",
    "plt.show()\n",
    " \n",
    " "
   ]
  },
  {
   "cell_type": "code",
   "execution_count": 129,
   "metadata": {},
   "outputs": [
    {
     "name": "stdout",
     "output_type": "stream",
     "text": [
      "MLPClassifier() --> 0.5898412698412698\n",
      "Classification Report:\n",
      "               precision    recall  f1-score   support\n",
      "\n",
      "           0       0.99      0.33      0.49     19081\n",
      "           1       0.49      0.99      0.66     12419\n",
      "\n",
      "    accuracy                           0.59     31500\n",
      "   macro avg       0.74      0.66      0.57     31500\n",
      "weighted avg       0.79      0.59      0.56     31500\n",
      "\n"
     ]
    },
    {
     "data": {
      "image/png": "[encoded data removed]",
      "text/plain": [
       "<Figure size 800x600 with 2 Axes>"
      ]
     },
     "metadata": {},
     "output_type": "display_data"
    }
   ],
   "source": [
    "from sklearn.neural_network import MLPClassifier\n",
    "\n",
    "mlp = MLPClassifier()\n",
    "model_acc(mlp)\n",
    "\n",
    "# Predict on test set\n",
    "y_pred = mlp.predict(X_test)\n",
    "\n",
    "# Confusion matrix\n",
    "conf_matrix = confusion_matrix(y_test, y_pred)\n",
    "\n",
    "# Classification report\n",
    "class_report = classification_report(y_test, y_pred)\n",
    "print(\"Classification Report:\\n\", class_report)\n",
    "\n",
    "# Confusion matrix plot\n",
    "plt.figure(figsize=(8, 6))\n",
    "sns.heatmap(conf_matrix, annot=True, fmt='g', cmap='Blues')\n",
    "plt.title('Confusion Matrix for MLPClassifier')\n",
    "plt.xlabel('Predicted Labels')\n",
    "plt.ylabel('True Labels')\n",
    "plt.show()"
   ]
  },
  {
   "cell_type": "code",
   "execution_count": 130,
   "metadata": {},
   "outputs": [],
   "source": [
    "# Parameter grid for KNN\n",
    "param_grid_knn = {\n",
    "    'n_neighbors': [3, 5, 7, 10],\n",
    "    'weights': ['uniform', 'distance'],\n",
    "    'algorithm': ['auto', 'ball_tree', 'kd_tree'],\n",
    "    'leaf_size': [10, 20, 30]  \n",
    "}\n",
    "\n",
    "\n",
    "# Parameter grid for Logistic Regression\n",
    "param_grid_lr = {\n",
    "    'C': [0.01, 0.1, 1, 10],\n",
    "    'penalty': ['l2'],\n",
    "    'solver': ['lbfgs', 'liblinear']\n",
    "}\n",
    "\n",
    "# Parameter grid for MLP\n",
    "param_grid_mlp = {\n",
    "    'hidden_layer_sizes': [(50,), (100,), (50, 50), (100, 50)],  \n",
    "    'activation': ['relu', 'logistic'],\n",
    "    'solver': ['adam', 'sgd'],\n",
    "    'alpha': [ 0.001, 0.01],  \n",
    "    'learning_rate': ['constant', 'invscaling', 'adaptive'],\n",
    "    'max_iter': [200, 300]\n",
    "}\n",
    "\n",
    "\n",
    "\n",
    "# Initialize models\n",
    "models = {\n",
    "    'KNN': (KNeighborsClassifier(), param_grid_knn, GridSearchCV),\n",
    "    'Logistic Regression': (LogisticRegression(class_weight='balanced'), param_grid_lr, GridSearchCV),\n",
    "    'MLPClassifier': (MLPClassifier(), param_grid_mlp, RandomizedSearchCV)\n",
    "\n",
    "    \n",
    "}"
   ]
  },
  {
   "cell_type": "code",
   "execution_count": 131,
   "metadata": {},
   "outputs": [
    {
     "name": "stdout",
     "output_type": "stream",
     "text": [
      "----------------------------------------------------------------------------------------------------\n",
      "Starting hyperparameter tuning for KNN...\n",
      "Fitting 5 folds for each of 72 candidates, totalling 360 fits\n",
      "Best parameters for KNN: {'algorithm': 'auto', 'leaf_size': 10, 'n_neighbors': 3, 'weights': 'distance'}\n",
      "Best score for KNN: 0.9564353741496598\n",
      "----------------------------------------------------------------------------------------------------\n",
      "----------------------------------------------------------------------------------------------------\n",
      "Starting hyperparameter tuning for Logistic Regression...\n",
      "Fitting 5 folds for each of 8 candidates, totalling 40 fits\n"
     ]
    },
    {
     "name": "stderr",
     "output_type": "stream",
     "text": [
      "c:\\Users\\Gen\\AppData\\Local\\Programs\\Python\\Python312\\Lib\\site-packages\\sklearn\\linear_model\\_logistic.py:469: ConvergenceWarning: lbfgs failed to converge (status=1):\n",
      "STOP: TOTAL NO. of ITERATIONS REACHED LIMIT.\n",
      "\n",
      "Increase the number of iterations (max_iter) or scale the data as shown in:\n",
      "    https://scikit-learn.org/stable/modules/preprocessing.html\n",
      "Please also refer to the documentation for alternative solver options:\n",
      "    https://scikit-learn.org/stable/modules/linear_model.html#logistic-regression\n",
      "  n_iter_i = _check_optimize_result(\n"
     ]
    },
    {
     "name": "stdout",
     "output_type": "stream",
     "text": [
      "Best parameters for Logistic Regression: {'C': 0.01, 'penalty': 'l2', 'solver': 'lbfgs'}\n",
      "Best score for Logistic Regression: 0.8348979591836734\n",
      "----------------------------------------------------------------------------------------------------\n",
      "----------------------------------------------------------------------------------------------------\n",
      "Starting hyperparameter tuning for MLPClassifier...\n",
      "Fitting 5 folds for each of 50 candidates, totalling 250 fits\n",
      "Best parameters for MLPClassifier: {'solver': 'adam', 'max_iter': 300, 'learning_rate': 'invscaling', 'hidden_layer_sizes': (100, 50), 'alpha': 0.01, 'activation': 'relu'}\n",
      "Best score for MLPClassifier: 0.9038911564625851\n",
      "----------------------------------------------------------------------------------------------------\n"
     ]
    }
   ],
   "source": [
    "# Perform hyperparameter tuning with K-Fold Cross Validation\n",
    "best_models = {}\n",
    "\n",
    "for name, (model, param_grid, search_method) in models.items():\n",
    "    print(\"-\" * 100)\n",
    "    print(f\"Starting hyperparameter tuning for {name}...\")\n",
    "    \n",
    "    # For GridSearchCV or RandomizedSearchCV based on the model\n",
    "    if search_method == GridSearchCV:\n",
    "        grid_search = GridSearchCV(estimator=model, param_grid=param_grid, cv=kfold, n_jobs=-1, verbose=2)\n",
    "    else:\n",
    "        grid_search = RandomizedSearchCV(estimator=model, param_distributions=param_grid, n_iter=50, cv=kfold, n_jobs=-1, verbose=2, random_state=42)\n",
    "    \n",
    "    grid_search.fit(X_train, y_train)\n",
    "    \n",
    "    print(f\"Best parameters for {name}: {grid_search.best_params_}\")\n",
    "    print(f\"Best score for {name}: {grid_search.best_score_}\")\n",
    "    print(\"-\" * 100)\n",
    "    \n",
    "    best_models[name] = grid_search.best_estimator_"
   ]
  },
  {
   "cell_type": "code",
   "execution_count": 132,
   "metadata": {},
   "outputs": [
    {
     "name": "stdout",
     "output_type": "stream",
     "text": [
      "\n",
      "Performance Report for KNN (Tuned):\n",
      "\n",
      "Accuracy: 0.9616\n",
      "Classification Report:\n",
      "              precision    recall  f1-score   support\n",
      "\n",
      "           0       0.96      0.98      0.97     19081\n",
      "           1       0.97      0.94      0.95     12419\n",
      "\n",
      "    accuracy                           0.96     31500\n",
      "   macro avg       0.96      0.96      0.96     31500\n",
      "weighted avg       0.96      0.96      0.96     31500\n",
      "\n",
      "\n",
      "Performance Report for Logistic Regression (Tuned):\n",
      "\n",
      "Accuracy: 0.7138\n",
      "Classification Report:\n",
      "              precision    recall  f1-score   support\n",
      "\n",
      "           0       0.86      0.63      0.73     19081\n",
      "           1       0.60      0.84      0.70     12419\n",
      "\n",
      "    accuracy                           0.71     31500\n",
      "   macro avg       0.73      0.74      0.71     31500\n",
      "weighted avg       0.76      0.71      0.72     31500\n",
      "\n",
      "\n",
      "Performance Report for MLPClassifier (Tuned):\n",
      "\n",
      "Accuracy: 0.9977\n",
      "Classification Report:\n",
      "              precision    recall  f1-score   support\n",
      "\n",
      "           0       1.00      1.00      1.00     19081\n",
      "           1       1.00      1.00      1.00     12419\n",
      "\n",
      "    accuracy                           1.00     31500\n",
      "   macro avg       1.00      1.00      1.00     31500\n",
      "weighted avg       1.00      1.00      1.00     31500\n",
      "\n"
     ]
    }
   ],
   "source": [
    "# Evaluate the tuned models\n",
    "def evaluate_models(models, X_test, y_test):\n",
    "    for name, model in models.items():\n",
    "        print(f'\\nPerformance Report for {name} (Tuned):\\n')\n",
    "        \n",
    "        # Predict the outcomes\n",
    "        y_pred = model.predict(X_test)\n",
    "        \n",
    "        # Compute and print accuracy\n",
    "        accuracy = accuracy_score(y_test, y_pred)\n",
    "        print(f'Accuracy: {accuracy:.4f}')\n",
    "\n",
    "        # Compute and print classification report\n",
    "        print('Classification Report:')\n",
    "        print(classification_report(y_test, y_pred))\n",
    "\n",
    "# Call the function to evaluate the best models\n",
    "evaluate_models(best_models, X_test, y_test)"
   ]
  },
  {
   "cell_type": "code",
   "execution_count": 133,
   "metadata": {},
   "outputs": [],
   "source": [
    "predicted = kn.predict(X_test)"
   ]
  },
  {
   "cell_type": "code",
   "execution_count": 134,
   "metadata": {},
   "outputs": [
    {
     "data": {
      "image/png": "[encoded data removed]",
      "text/plain": [
       "<Figure size 800x600 with 1 Axes>"
      ]
     },
     "metadata": {},
     "output_type": "display_data"
    }
   ],
   "source": [
    "import seaborn as sns\n",
    "from sklearn.metrics import confusion_matrix\n",
    "\n",
    "# Compute confusion matrix\n",
    "cm = confusion_matrix(y_test, predicted)\n",
    "\n",
    "# Function to plot confusion matrix\n",
    "def plot_confusion_matrix(cm, labels):\n",
    "    plt.figure(figsize=(8, 6))\n",
    "    sns.heatmap(cm, annot=True, fmt='d', cmap='Blues', cbar=False,\n",
    "                xticklabels=labels, yticklabels=labels)\n",
    "    plt.ylabel('Actual')\n",
    "    plt.xlabel('Predicted')\n",
    "    plt.title('Confusion Matrix')\n",
    "    plt.show()\n",
    "\n",
    "labels = ['Class 0', 'Class 1']  \n",
    "plot_confusion_matrix(cm, labels)\n"
   ]
  },
  {
   "cell_type": "code",
   "execution_count": 135,
   "metadata": {},
   "outputs": [],
   "source": [
    "# import joblib\n",
    "\n",
    "# # Save the mode\n",
    "# joblib.dump(best_models['KNN'], '../TrainedModels/KNN_model.pkl')"
   ]
  },
  {
   "cell_type": "code",
   "execution_count": 136,
   "metadata": {},
   "outputs": [],
   "source": [
    "# df_final.to_csv('training_dataset.csv', index=False)\n"
   ]
  },
  {
   "cell_type": "code",
   "execution_count": 137,
   "metadata": {},
   "outputs": [],
   "source": [
    "import joblib\n",
    "\n",
    "# Load your trained model (ensure you have saved your model as 'model.pkl' using joblib or pickle)\n",
    "model = joblib.load('../TrainedModels/KNN_model.pkl')"
   ]
  },
  {
   "cell_type": "code",
   "execution_count": 138,
   "metadata": {},
   "outputs": [],
   "source": [
    "import pandas as pd\n",
    "new_data = pd.DataFrame({\n",
    "    'Gender': ['Male'],\n",
    "    'Month_Income': [200000],\n",
    "    'Age': [35],\n",
    "    'Occupation': ['Other'],\n",
    "    'Credit_Score': [350],\n",
    "    'Loan_Status': ['No'],\n",
    "    'Existing_Credit_Cards': [2],\n",
    "    'Avg_Account_Balance': [100000],\n",
    "    'Account_Category': ['Investment Account'],\n",
    "    'Tenure_with_Bank': [1]\n",
    "})"
   ]
  },
  {
   "cell_type": "code",
   "execution_count": 139,
   "metadata": {},
   "outputs": [
    {
     "name": "stdout",
     "output_type": "stream",
     "text": [
      "Predicted Lead Outcome: Yes\n"
     ]
    }
   ],
   "source": [
    "new_data_encoded = pd.get_dummies(new_data)\n",
    "\n",
    "# Ensure that the new_data has all the columns that the model was trained on\n",
    "missing_cols = set(X_train.columns) - set(new_data_encoded.columns)\n",
    "for col in missing_cols:\n",
    "    new_data_encoded[col] = 0\n",
    "\n",
    "# Reorder the columns to match the training data\n",
    "new_data_encoded = new_data_encoded[X_train.columns]\n",
    "\n",
    "# Now, make predictions\n",
    "predictions = model.predict(new_data_encoded)\n",
    "\n",
    "# Convert numeric predictions (1/0) to 'Yes'/'No'\n",
    "predictions = ['Yes' if pred == 1 else 'No' for pred in predictions]\n",
    "\n",
    "print(f'Predicted Lead Outcome: {predictions[0]}')"
   ]
  },
  {
   "cell_type": "code",
   "execution_count": null,
   "metadata": {},
   "outputs": [],
   "source": []
  }
 ],
 "metadata": {
  "kernelspec": {
   "display_name": "Python 3 (ipykernel)",
   "language": "python",
   "name": "python3"
  },
  "language_info": {
   "codemirror_mode": {
    "name": "ipython",
    "version": 3
   },
   "file_extension": ".py",
   "mimetype": "text/x-python",
   "name": "python",
   "nbconvert_exporter": "python",
   "pygments_lexer": "ipython3",
   "version": "3.12.4"
  }
 },
 "nbformat": 4,
 "nbformat_minor": 4
}
